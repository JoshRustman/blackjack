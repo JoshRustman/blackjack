{
 "cells": [
  {
   "cell_type": "code",
   "execution_count": 1,
   "metadata": {
    "collapsed": false
   },
   "outputs": [],
   "source": [
    "playing = False\n",
    "\n",
    "bet = 1\n",
    "\n",
    "restart_game = \"Press 'd' to deal or 'q' to quit\"\n",
    "\n",
    "class Player(object):\n",
    "    \n",
    "    def __init__(self,bankroll=100):\n",
    "        self.bankroll = bankroll\n",
    "        \n",
    "    def add_bankroll(self,amount):\n",
    "        self.bankroll += amount\n",
    "        \n",
    "   "
   ]
  },
  {
   "cell_type": "code",
   "execution_count": 27,
   "metadata": {
    "collapsed": true
   },
   "outputs": [],
   "source": [
    "sam = Player(bankroll=1000)"
   ]
  },
  {
   "cell_type": "code",
   "execution_count": 19,
   "metadata": {
    "collapsed": false
   },
   "outputs": [
    {
     "data": {
      "text/plain": [
       "1000"
      ]
     },
     "execution_count": 19,
     "metadata": {},
     "output_type": "execute_result"
    }
   ],
   "source": [
    "sam.bankroll"
   ]
  },
  {
   "cell_type": "code",
   "execution_count": 20,
   "metadata": {
    "collapsed": true
   },
   "outputs": [],
   "source": [
    "sam.add_bankroll(10)"
   ]
  },
  {
   "cell_type": "code",
   "execution_count": 28,
   "metadata": {
    "collapsed": false
   },
   "outputs": [
    {
     "name": "stdout",
     "output_type": "stream",
     "text": [
      "What amount would you like to bet? Enter an integer please\n",
      "9\n"
     ]
    }
   ],
   "source": []
  },
  {
   "cell_type": "code",
   "execution_count": 2,
   "metadata": {
    "collapsed": true
   },
   "outputs": [],
   "source": [
    "import random"
   ]
  },
  {
   "cell_type": "code",
   "execution_count": 3,
   "metadata": {
    "collapsed": false
   },
   "outputs": [],
   "source": [
    "#Hearts, Diamonds, Clubs, Spades\n",
    "suits = ('H','D','C','S')\n",
    "\n",
    "#Possible card ranks\n",
    "ranking = ('A','2','3','4','5','6','7','8','9','10','J','Q','K')\n",
    "\n",
    "#Point values dict (Ace can be 1 or 11)\n",
    "card_val= {'A':1,'2':2,'3':3,'4':4,'5':5,'6':6,'7':7,'8':8,'9':9,'10':10,'J':10,'Q':10,'K':10}\n"
   ]
  },
  {
   "cell_type": "code",
   "execution_count": 4,
   "metadata": {
    "collapsed": false
   },
   "outputs": [],
   "source": [
    "class Card:\n",
    "    \n",
    "    def __init__(self,suit,rank):\n",
    "        self.suit = suit\n",
    "        self.rank = rank\n",
    "        \n",
    "    def __str__(self):\n",
    "        return self.suit+self.rank\n",
    "    \n",
    "    def get_suit(self):\n",
    "        return self.suit\n",
    "    \n",
    "    def get_rank(self):\n",
    "        return self.rank\n",
    "    \n",
    "    def draw(self):\n",
    "        print(self.suit+self.rank)"
   ]
  },
  {
   "cell_type": "code",
   "execution_count": 5,
   "metadata": {
    "collapsed": false
   },
   "outputs": [],
   "source": [
    "#Handles the case of ace being 1 or 11\n",
    "class Hand:\n",
    "    \n",
    "    def __init__(self):\n",
    "        self.cards = []\n",
    "        self.value = 0\n",
    "        self.ace = False\n",
    "        \n",
    "    def __str__(self):\n",
    "        hand_comp = ''\n",
    "        \n",
    "        for card in self.cards:\n",
    "            card_name = card.__str__()\n",
    "            hand_comp += '' + card_name\n",
    "        \n",
    "        return 'The hand has %s' %hand_comp\n",
    "    \n",
    "    def card_add(self,card):\n",
    "        self.cards.append(card)\n",
    "        \n",
    "        if card.rank == 'A':\n",
    "            self.ace = True\n",
    "        self.value += card_val[card.rank]\n",
    "        \n",
    "    def calc_val(self):\n",
    "        \n",
    "        if (self.ace == True and self.value <12):\n",
    "            return self.value + 10\n",
    "        else:\n",
    "            return self.value\n",
    "    def draw(self,hidden):\n",
    "        if hidden == True and playing == True:\n",
    "            starting_card = 1\n",
    "        else:\n",
    "            starting_card = 0\n",
    "        for x in range(starting_card,len(self.cards)):\n",
    "            self.cards[x].draw()"
   ]
  },
  {
   "cell_type": "code",
   "execution_count": 6,
   "metadata": {
    "collapsed": true
   },
   "outputs": [],
   "source": [
    "class Deck:\n",
    "    \n",
    "    def __init__(self):\n",
    "        self.deck = []\n",
    "        for suit in suits:\n",
    "            for rank in ranking:\n",
    "                self.deck.append(Card(suit,rank))\n",
    "    \n",
    "    def shuffle(self):\n",
    "        random.shuffle(self.deck)\n",
    "        \n",
    "    def deal(self):\n",
    "        single_card = self.deck.pop()\n",
    "        return single_card\n",
    "    \n",
    "    def __str__(self):\n",
    "        deck_comp = ''\n",
    "        for card in self.cards:\n",
    "            deck_comp += ' ' + deck_comp.__str__()\n",
    "            \n",
    "        return 'The deck has' + deck_comp"
   ]
  },
  {
   "cell_type": "code",
   "execution_count": 7,
   "metadata": {
    "collapsed": true
   },
   "outputs": [],
   "source": [
    "def make_bet():\n",
    "    \n",
    "    global bet\n",
    "    bet = 0\n",
    "        \n",
    "    print ('What amount would you like to bet? Enter an integer please')\n",
    "        \n",
    "    while bet == 0:\n",
    "        bet_comp = int(input())\n",
    "        if bet_comp >= 1 and bet_comp <= Player.bankroll:\n",
    "            bet = bet_comp\n",
    "        else:\n",
    "            print ('Invalid bet, you only have' + str(Player.bankroll) + 'remaining')\n",
    "            \n",
    "        \n",
    "    "
   ]
  },
  {
   "cell_type": "code",
   "execution_count": 8,
   "metadata": {
    "collapsed": false
   },
   "outputs": [],
   "source": [
    "def deal_cards():\n",
    "    global result,playing,deck,player_hand,dealer_hand,bet\n",
    "    \n",
    "    deck = Deck()\n",
    "    \n",
    "    deck.shuffle()\n",
    "    \n",
    "    make_bet()\n",
    "    \n",
    "    player_hand = Hand()\n",
    "    dealer_hand = Hand()\n",
    "    \n",
    "    player_hand.card_add(deck.deal())\n",
    "    player_hand.card_add(deck.deal())\n",
    "    \n",
    "    dealer_hand.card_add(deck.deal())\n",
    "    dealer_hand.card_add(deck.deal())\n",
    "    \n",
    "    result = 'Hit or Stand? Press h or s:'\n",
    "    \n",
    "    if playing == True:\n",
    "        print('Fold, Sorry')\n",
    "        Player.bankroll -= bet\n",
    "        \n",
    "    playing = True\n",
    "    game_step()"
   ]
  },
  {
   "cell_type": "code",
   "execution_count": 9,
   "metadata": {
    "collapsed": true
   },
   "outputs": [],
   "source": [
    "def hit ():\n",
    "    global playing,deck,player_hand,dealer_hand,result,bet\n",
    "    \n",
    "    if playing:\n",
    "        if player_hand.calc_val() <= 21:\n",
    "            player_hand.card_add(deck.deal())\n",
    "            \n",
    "        print ('Player hand is %s' %player_hand)\n",
    "        \n",
    "        if player_hand.calc_val() > 21:\n",
    "            result = 'Busted!' + restart_game\n",
    "            \n",
    "            Player.bankroll -= bet\n",
    "            playing = False\n",
    "            \n",
    "    else:\n",
    "        result = 'Sorry cant hit' + restart_game\n",
    "        \n",
    "    game_step()"
   ]
  },
  {
   "cell_type": "code",
   "execution_count": 10,
   "metadata": {
    "collapsed": true
   },
   "outputs": [],
   "source": [
    "def stand():\n",
    "    global playing,deck,player_hand,dealer_hand,result,bet\n",
    "    \n",
    "    if playing == False:\n",
    "        if player_hand.calc_val() > 0:\n",
    "            result = 'Sorry you cant stand'\n",
    "            \n",
    "    else:\n",
    "        \n",
    "        while dealer_hand.calc_val() < 17:\n",
    "            dealer_hand.card_add(deck.deal())\n",
    "            \n",
    "        if dealer_hand.calc_val() > 21:\n",
    "            result = 'Dealer busts you win!' + restart_game\n",
    "            Player.bankroll+= bet\n",
    "            playing = False\n",
    "        \n",
    "        elif dealer_hand.calc_val() < player_hand.calc_val():\n",
    "            result = 'You beat the dealer, you win!' + restart_game\n",
    "            Player.bankroll+= bet\n",
    "            playing = False\n",
    "            \n",
    "        elif dealer_hand.calc_val() == player_hand.calc_val():\n",
    "            result = 'You push!' + restart_game\n",
    "            playing = False\n",
    "            \n",
    "        else:\n",
    "            result = 'Dealer wins' + restart_game\n",
    "            Player.bankroll-= bet\n",
    "            playing = False\n",
    "    \n",
    "    game_step()"
   ]
  },
  {
   "cell_type": "code",
   "execution_count": 11,
   "metadata": {
    "collapsed": true
   },
   "outputs": [],
   "source": [
    "def game_step():\n",
    "    'Function to print game step/status on output'\n",
    "    \n",
    "    #Display Player Hand\n",
    "    print (\"\")\n",
    "    print('Player Hand is: '),\n",
    "    player_hand.draw(hidden =False)\n",
    "    \n",
    "    print ('Player hand total is: '+str(player_hand.calc_val()))\n",
    "    \n",
    "    #Display Dealer Hand\n",
    "    print('Dealer Hand is: '),\n",
    "    dealer_hand.draw(hidden=True)\n",
    "    \n",
    "    # If game round is over\n",
    "    if playing == False:\n",
    "        print  (\" --- for a total of \" + str(dealer_hand.calc_val() ))\n",
    "        print (\"Chip Total: \" + str(Player.bankroll))\n",
    "    # Otherwise, don't know the second card yet\n",
    "    else: \n",
    "        print (\" with another card hidden upside down\")\n",
    "    \n",
    "    # Print result of hit or stand.\n",
    "    print (result)\n",
    "    \n",
    "    player_input()"
   ]
  },
  {
   "cell_type": "code",
   "execution_count": 12,
   "metadata": {
    "collapsed": true
   },
   "outputs": [],
   "source": [
    "def game_exit():\n",
    "    print ('Thanks for playing!')\n",
    "    exit()"
   ]
  },
  {
   "cell_type": "code",
   "execution_count": 13,
   "metadata": {
    "collapsed": false
   },
   "outputs": [],
   "source": [
    "def player_input():\n",
    "    ''' Read user input, lower case it just to be safe'''\n",
    "    plin = input().lower()\n",
    "    \n",
    "    \n",
    "    if plin == 'h':\n",
    "        hit()\n",
    "    elif plin == 's':\n",
    "        stand()\n",
    "    elif plin == 'd':\n",
    "        deal_cards()\n",
    "    elif plin == 'q':\n",
    "        game_exit()\n",
    "    else:\n",
    "        print (\"Invalid Input...Enter h, s, d, or q: \")\n",
    "        player_input()"
   ]
  },
  {
   "cell_type": "code",
   "execution_count": 14,
   "metadata": {
    "collapsed": true
   },
   "outputs": [],
   "source": [
    "def intro():\n",
    "    statement = '''Welcome to BlackJack! Get as close to 21 as you can without going over!\n",
    "    Dealer hits until she reaches 17. Aces count as 1 or 11.\n",
    "    Card output goes a letter followed by a number of face notation'''\n",
    "    print (statement)"
   ]
  },
  {
   "cell_type": "code",
   "execution_count": 15,
   "metadata": {
    "collapsed": false
   },
   "outputs": [
    {
     "name": "stdout",
     "output_type": "stream",
     "text": [
      "Welcome to BlackJack! Get as close to 21 as you can without going over!\n",
      "    Dealer hits until she reaches 17. Aces count as 1 or 11.\n",
      "    Card output goes a letter followed by a number of face notation\n",
      "What amount would you like to bet? Enter an integer please\n",
      "70\n",
      "\n",
      "Player Hand is: \n",
      "D8\n",
      "H5\n",
      "Player hand total is: 13\n",
      "Dealer Hand is: \n",
      "S10\n",
      " with another card hidden upside down\n",
      "Hit or Stand? Press h or s:\n",
      "h\n",
      "Player hand is The hand has D8H5DK\n",
      "\n",
      "Player Hand is: \n",
      "D8\n",
      "H5\n",
      "DK\n",
      "Player hand total is: 23\n",
      "Dealer Hand is: \n",
      "H6\n",
      "S10\n",
      " --- for a total of 16\n",
      "Chip Total: 130\n",
      "Busted!Press 'd' to deal or 'q' to quit\n",
      "d\n",
      "What amount would you like to bet? Enter an integer please\n",
      "30\n",
      "\n",
      "Player Hand is: \n",
      "S2\n",
      "SJ\n",
      "Player hand total is: 12\n",
      "Dealer Hand is: \n",
      "HK\n",
      " with another card hidden upside down\n",
      "Hit or Stand? Press h or s:\n",
      "h\n",
      "Player hand is The hand has S2SJSQ\n",
      "\n",
      "Player Hand is: \n",
      "S2\n",
      "SJ\n",
      "SQ\n",
      "Player hand total is: 22\n",
      "Dealer Hand is: \n",
      "S3\n",
      "HK\n",
      " --- for a total of 13\n",
      "Chip Total: 100\n",
      "Busted!Press 'd' to deal or 'q' to quit\n",
      "d\n",
      "What amount would you like to bet? Enter an integer please\n",
      "20\n",
      "\n",
      "Player Hand is: \n",
      "S5\n",
      "HK\n",
      "Player hand total is: 15\n",
      "Dealer Hand is: \n",
      "D4\n",
      " with another card hidden upside down\n",
      "Hit or Stand? Press h or s:\n",
      "s\n",
      "\n",
      "Player Hand is: \n",
      "S5\n",
      "HK\n",
      "Player hand total is: 15\n",
      "Dealer Hand is: \n",
      "D2\n",
      "D4\n",
      "CJ\n",
      "C10\n",
      " --- for a total of 26\n",
      "Chip Total: 120\n",
      "Dealer busts you win!Press 'd' to deal or 'q' to quit\n",
      "d\n",
      "What amount would you like to bet? Enter an integer please\n",
      "120\n",
      "\n",
      "Player Hand is: \n",
      "C6\n",
      "D7\n",
      "Player hand total is: 13\n",
      "Dealer Hand is: \n",
      "D2\n",
      " with another card hidden upside down\n",
      "Hit or Stand? Press h or s:\n",
      "h\n",
      "Player hand is The hand has C6D7D10\n",
      "\n",
      "Player Hand is: \n",
      "C6\n",
      "D7\n",
      "D10\n",
      "Player hand total is: 23\n",
      "Dealer Hand is: \n",
      "DQ\n",
      "D2\n",
      " --- for a total of 12\n",
      "Chip Total: 0\n",
      "Busted!Press 'd' to deal or 'q' to quit\n",
      "q\n",
      "Thanks for playing!\n"
     ]
    }
   ],
   "source": [
    "Player = Player(bankroll=200)\n",
    "\n",
    "deck = Deck()\n",
    "\n",
    "deck.shuffle()\n",
    "\n",
    "player_hand = Hand()\n",
    "dealer_hand = Hand()\n",
    "\n",
    "intro()\n",
    "\n",
    "deal_cards()\n"
   ]
  },
  {
   "cell_type": "code",
   "execution_count": null,
   "metadata": {
    "collapsed": true
   },
   "outputs": [],
   "source": []
  }
 ],
 "metadata": {
  "anaconda-cloud": {},
  "kernelspec": {
   "display_name": "Python [Root]",
   "language": "python",
   "name": "Python [Root]"
  },
  "language_info": {
   "codemirror_mode": {
    "name": "ipython",
    "version": 3
   },
   "file_extension": ".py",
   "mimetype": "text/x-python",
   "name": "python",
   "nbconvert_exporter": "python",
   "pygments_lexer": "ipython3",
   "version": "3.5.2"
  }
 },
 "nbformat": 4,
 "nbformat_minor": 0
}
